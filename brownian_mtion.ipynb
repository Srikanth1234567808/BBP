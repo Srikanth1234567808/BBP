{
 "cells": [
  {
   "cell_type": "code",
   "execution_count": null,
   "metadata": {},
   "outputs": [
    {
     "name": "stdout",
     "output_type": "stream",
     "text": [
      "data_saved\n"
     ]
    }
   ],
   "source": [
    "import requests\n",
    "\n",
    "# Set your API key\n",
    "api_key = \"d6e267211dmsh784565639b047e7p10d250jsn0887c32039a\"\n",
    "\n",
    "# API endpoint for hourly data\n",
    "url = \"https://meteostat.p.rapidapi.com/point/hourly\"\n",
    "\n",
    "# Query parameters for Delhi, India\n",
    "params = {\n",
    "    \"lat\": \"28.6139\",  # Delhi Latitude\n",
    "    \"lon\": \"77.2090\",  # Delhi Longitude\n",
    "    \"start\": \"2024-03-01\",  # Start date (YYYY-MM-DD)\n",
    "    \"end\": \"2024-03-02\",  # End date (Max 30 days per request)\n",
    "    \"tz\": \"Asia/Kolkata\"  # Timezone for Delhi\n",
    "}\n",
    "\n",
    "# Headers with the API key\n",
    "headers = {\n",
    "    \"X-RapidAPI-Key\": api_key,\n",
    "    \"X-RapidAPI-Host\": \"meteostat.p.rapidapi.com\"\n",
    "}\n",
    "\n",
    "# Send the request\n",
    "response = requests.get(url, headers=headers, params=params)\n",
    "\n",
    "# Print the response\n",
    "print(response.json())"
   ]
  },
  {
   "cell_type": "code",
   "execution_count": null,
   "metadata": {},
   "outputs": [],
   "source": []
  }
 ],
 "metadata": {
  "kernelspec": {
   "display_name": "tf",
   "language": "python",
   "name": "python3"
  },
  "language_info": {
   "codemirror_mode": {
    "name": "ipython",
    "version": 3
   },
   "file_extension": ".py",
   "mimetype": "text/x-python",
   "name": "python",
   "nbconvert_exporter": "python",
   "pygments_lexer": "ipython3",
   "version": "3.12.4"
  }
 },
 "nbformat": 4,
 "nbformat_minor": 2
}
